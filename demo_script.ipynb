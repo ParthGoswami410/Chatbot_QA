{
 "cells": [
  {
   "cell_type": "markdown",
   "id": "29cca981",
   "metadata": {},
   "source": [
    "# 📄 Demo Script: Document Chatbot\n",
    "\n",
    "This notebook demonstrates:\n",
    "- Uploading a folder of documents\n",
    "- Asking 3 example questions\n",
    "- Getting answers with cited sources"
   ]
  },
  {
   "cell_type": "code",
   "execution_count": 1,
   "id": "e4622ad1",
   "metadata": {},
   "outputs": [
    {
     "name": "stdout",
     "output_type": "stream",
     "text": [
      "Uploading documents...\n",
      "Upload response: {'message': '3 documents processed.'}\n"
     ]
    }
   ],
   "source": [
    "import requests\n",
    "print(\"Uploading documents...\")\n",
    "folder_path = \"E:/Chatbot_App/uploaded_docs\"  # 👈 Use full path to your folder\n",
    "upload_response = requests.post(\"http://localhost:5000/upload\", data={\"folder_path\": folder_path})\n",
    "print(\"Upload response:\", upload_response.json())"
   ]
  },
  {
   "cell_type": "code",
   "execution_count": 2,
   "id": "08a05098",
   "metadata": {},
   "outputs": [
    {
     "name": "stdout",
     "output_type": "stream",
     "text": [
      "\n",
      "Q1: What is artificial intelligence?\n",
      "A1: Artificial Intelligence (AI) is the simulation of human intelligence in machines that are programmed to think and learn like humans [context, 1]. It includes a range of technologies such as natural language processing, speech recognition, machine vision, and decision-making systems. These technologies enable machines to perform tasks that typically require human intelligence, such as understanding language, recognizing images, and making decisions. AI is widely used in various applications, including autonomous vehicles, recommendation engines, fraud detection, and virtual assistants like Siri and Alexa [context, 1]. \n",
      "\n",
      "In essence, AI refers to the development of computer systems that can perform tasks that would normally require human intelligence, such as learning, problem-solving, and decision-making. This is achieved through the use of algorithms, data, and software that enable machines to think and learn like humans. Overall, AI has the potential to revolutionize numerous industries and aspects of our lives, making it a rapidly growing and exciting field of research and development.\n"
     ]
    }
   ],
   "source": [
    "question_1 = \"What is artificial intelligence?\"\n",
    "resp_1 = requests.post(\"http://localhost:5000/ask\", json={\"question\": question_1})\n",
    "print(\"\\nQ1:\", question_1)\n",
    "print(\"A1:\", resp_1.json()[\"answer\"])"
   ]
  },
  {
   "cell_type": "code",
   "execution_count": 4,
   "id": "0fc2c25e",
   "metadata": {},
   "outputs": [
    {
     "name": "stdout",
     "output_type": "stream",
     "text": [
      "\n",
      "Q2: Explain LLM\n",
      "A2: Large Language Models (LLMs) are advanced AI systems trained on massive text datasets to understand and generate human-like language [context, 1]. They utilize transformer architectures, which enable them to perform various tasks such as summarization, translation, question answering, and code generation [context, 1]. Some popular examples of LLMs include GPT-4, Claude, Gemini, and LLaMA [context, 1]. These models serve as the foundation for modern chatbots and AI assistants, demonstrating their significance in the field of artificial intelligence [context, 1]. By leveraging large amounts of text data, LLMs can learn patterns and relationships within language, allowing them to generate coherent and contextually relevant text [context, 1]. Overall, LLMs represent a significant advancement in natural language processing and have numerous applications in areas like customer service, content creation, and language translation [context, 1].\n"
     ]
    }
   ],
   "source": [
    "question_2 = \"Explain LLM\"\n",
    "resp_2 = requests.post(\"http://localhost:5000/ask\", json={\"question\": question_2})\n",
    "print(\"\\nQ2:\", question_2)\n",
    "print(\"A2:\", resp_2.json()[\"answer\"])"
   ]
  },
  {
   "cell_type": "code",
   "execution_count": 3,
   "id": "edac2d2e",
   "metadata": {},
   "outputs": [
    {
     "name": "stdout",
     "output_type": "stream",
     "text": [
      "\n",
      "Q3: Explain Machine-learning\n",
      "A3: Machine learning is a subset of Artificial Intelligence (AI) that enables systems to learn and improve from experience without being explicitly programmed [context, 1]. It involves the use of algorithms that learn patterns from data and make predictions or decisions. There are several types of machine learning, including supervised learning, unsupervised learning, and reinforcement learning [context, 1]. \n",
      "\n",
      "Supervised learning involves training a model on labeled data to make predictions on new, unseen data. Unsupervised learning involves training a model on unlabeled data to identify patterns or relationships. Reinforcement learning involves training a model to make decisions based on rewards or penalties [context, 1].\n",
      "\n",
      "Machine learning has numerous applications, including spam filtering, product recommendations, and image classification [context, 1]. It is widely used in various industries, such as marketing, healthcare, and finance, to analyze data, make predictions, and automate decision-making processes.\n",
      "\n",
      "Overall, machine learning is a powerful technology that enables systems to learn from data and improve their performance over time, without being explicitly programmed [context, 1]. Its applications are diverse and continue to grow, making it an essential component of Artificial Intelligence (AI) [context, 2].\n"
     ]
    }
   ],
   "source": [
    "question_3 = \"Explain Machine-learning\"\n",
    "resp_3 = requests.post(\"http://localhost:5000/ask\", json={\"question\": question_3})\n",
    "print(\"\\nQ3:\", question_3)\n",
    "print(\"A3:\", resp_3.json()[\"answer\"])"
   ]
  }
 ],
 "metadata": {
  "kernelspec": {
   "display_name": "Python 3",
   "language": "python",
   "name": "python3"
  },
  "language_info": {
   "codemirror_mode": {
    "name": "ipython",
    "version": 3
   },
   "file_extension": ".py",
   "mimetype": "text/x-python",
   "name": "python",
   "nbconvert_exporter": "python",
   "pygments_lexer": "ipython3",
   "version": "3.12.0"
  }
 },
 "nbformat": 4,
 "nbformat_minor": 5
}
